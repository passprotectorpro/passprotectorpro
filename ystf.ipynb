{
 "cells": [
  {
   "cell_type": "code",
   "execution_count": 2,
   "metadata": {},
   "outputs": [],
   "source": [
    "import pandas as pd\n",
    "import numpy as np\n",
    "import re\n",
    "import hashlib\n",
    "import math\n",
    "import joblib\n",
    "from sklearn.model_selection import train_test_split\n",
    "from sklearn.feature_extraction.text import TfidfVectorizer\n",
    "from sklearn.metrics import accuracy_score\n",
    "from xgboost import XGBClassifier\n",
    "from scipy.sparse import csr_matrix  # Importing the necessary library"
   ]
  },
  {
   "cell_type": "code",
   "execution_count": 3,
   "metadata": {},
   "outputs": [],
   "source": [
    "# Function to calculate TF-IDF features\n",
    "def tfidf_features(passwords):\n",
    "    vectorizer = TfidfVectorizer()\n",
    "    tfidf_matrix = vectorizer.fit_transform(passwords)\n",
    "    return tfidf_matrix"
   ]
  },
  {
   "cell_type": "code",
   "execution_count": 4,
   "metadata": {},
   "outputs": [],
   "source": [
    "def calculate_entropy(password):\n",
    "    charset = 0\n",
    "    charset += 26 if any(char.islower() for char in password) else 0\n",
    "    charset += 26 if any(char.isupper() for char in password) else 0\n",
    "    charset += 10 if any(char.isdigit() for char in password) else 0\n",
    "    charset += 32 if bool(re.search(\"[!@#$%^&*()_+\\-=\\[\\]{};:'|,.<>\\/?]\", password)) else 0\n",
    "    \n",
    "    if charset > 0:\n",
    "        entropy = math.log2(charset) * len(password)\n",
    "        return entropy\n",
    "    else:\n",
    "        return 0"
   ]
  },
  {
   "cell_type": "code",
   "execution_count": 5,
   "metadata": {},
   "outputs": [],
   "source": [
    "def is_complex(password):\n",
    "    complexity_threshold = 3\n",
    "    complexity = 0\n",
    "    complexity += 1 if any(char.islower() for char in password) else 0\n",
    "    complexity += 1 if any(char.isupper() for char in password) else 0\n",
    "    complexity += 1 if any(char.isdigit() for char in password) else 0\n",
    "    complexity += 1 if bool(re.search(\"[!@#$%^&*()_+\\-=\\[\\]{};:'|,.<>\\/?]\", password)) else 0\n",
    "\n",
    "    return complexity >= complexity_threshold"
   ]
  },
  {
   "cell_type": "code",
   "execution_count": 6,
   "metadata": {},
   "outputs": [],
   "source": [
    "# Function to load common passwords\n",
    "def load_common_passwords(filename):\n",
    "    with open(filename, 'r') as file:\n",
    "        common_passwords = [line.strip() for line in file]\n",
    "    return common_passwords\n",
    "\n",
    "# Function to check if password is common\n",
    "def is_common_password(password, common_passwords):\n",
    "    hashed_password = hashlib.sha256(password.encode()).hexdigest()\n",
    "    for common_pwd in common_passwords:\n",
    "        if hashed_password == common_pwd:\n",
    "            return True\n",
    "    return False"
   ]
  },
  {
   "cell_type": "code",
   "execution_count": 7,
   "metadata": {},
   "outputs": [],
   "source": [
    "# Function to check for repeating patterns\n",
    "def has_repeating_patterns(password, threshold=3):\n",
    "    if threshold <= 1:\n",
    "        return False\n",
    "    \n",
    "    # Construct the regular expression pattern with the given threshold\n",
    "    pattern = re.compile(r\"(.+?)\\1{\" + str(threshold - 1) + r\",}\")\n",
    "    \n",
    "    # Search for repeating patterns in the password\n",
    "    return bool(pattern.search(password))"
   ]
  },
  {
   "cell_type": "code",
   "execution_count": 8,
   "metadata": {},
   "outputs": [],
   "source": [
    "# Function to check for Leet Speak substitutions\n",
    "def has_leet_speak_substitutions(password):\n",
    "    leet_substitutions = {\n",
    "        'a': ['4', '@'],\n",
    "        'b': ['8'],\n",
    "        'e': ['3'],\n",
    "        'g': ['9', '6'],\n",
    "        'i': ['1', '!', '|'],\n",
    "        'l': ['1', '|', '!'],\n",
    "        'o': ['0'],\n",
    "        's': ['$', '5'],\n",
    "        't': ['7', '+']\n",
    "        # Add more substitutions as needed\n",
    "    }\n",
    "\n",
    "    for char, substitutions in leet_substitutions.items():\n",
    "        if any(sub in password.lower() for sub in substitutions):\n",
    "            return 1  # 1 indicates the presence of Leet Speak substitutions\n",
    "    \n",
    "    return 0  # 0 indicates no Leet Speak substitutions"
   ]
  },
  {
   "cell_type": "code",
   "execution_count": 9,
   "metadata": {},
   "outputs": [],
   "source": [
    "def load_leaked_credentials(filename):\n",
    "    with open(filename, 'r') as file:\n",
    "        leaked_credentials = set(file.read().splitlines())\n",
    "    return leaked_credentials\n",
    "\n",
    "# Function to check if password is in leaked credentials\n",
    "def check_leaked_password(password, leaked_credentials):\n",
    "    if password in leaked_credentials:\n",
    "        return True\n",
    "    return False\n",
    "\n",
    "leaked_credentials = load_leaked_credentials(\"most common2023.txt\")\n",
    "\n",
    "# Function to check for repeated patterns\n",
    "def check_repeated(password):\n",
    "    threshold = 3  # Minimum length of repeated pattern\n",
    "    pattern = password[:threshold]  # Initial pattern to compare\n",
    "\n",
    "    for i in range(1, len(password) - threshold + 1):\n",
    "        # Check if the next substring matches the initial pattern\n",
    "        if password[i:i+threshold] == pattern:\n",
    "            return True\n",
    "\n",
    "    return False"
   ]
  },
  {
   "cell_type": "code",
   "execution_count": 12,
   "metadata": {},
   "outputs": [
    {
     "data": {
      "text/plain": [
       "['xgboost_model.pkl']"
      ]
     },
     "execution_count": 12,
     "metadata": {},
     "output_type": "execute_result"
    }
   ],
   "source": [
    "# Load data\n",
    "df = pd.read_csv(\"data_700 .csv\", usecols=['password', 'strength'], low_memory=False)\n",
    "df.dropna(inplace=True)\n",
    "df.drop_duplicates(inplace=True)\n",
    "\n",
    "# Extract features\n",
    "X = df['password'].apply(extract_features).apply(pd.Series)\n",
    "y = df['strength']\n",
    "\n",
    "# Split data into training and testing sets\n",
    "\n",
    "# Initialize TF-IDF vectorizer\n",
    "vectorizer = TfidfVectorizer()\n",
    "\n",
    "# Fit and transform on training data\n",
    "X_train_tfidf = vectorizer.fit_transform()\n",
    "\n",
    "# Transform testing data\n",
    "\n",
    "\n",
    "# Train XGBoost classifier\n",
    "model = XGBClassifier()\n",
    "model.fit(X_train_tfidf, y_train)\n",
    "\n",
    "# Save vectorizer\n",
    "joblib.dump(vectorizer, 'vectorizer.pkl')\n",
    "\n",
    "# Save model\n",
    "joblib.dump(model, 'xgboost_model.pkl')\n"
   ]
  },
  {
   "cell_type": "code",
   "execution_count": 10,
   "metadata": {},
   "outputs": [
    {
     "name": "stdout",
     "output_type": "stream",
     "text": [
      "Predicted complexity for password 'clknqh[n3ml1': Strong\n"
     ]
    }
   ],
   "source": [
    "from scipy.sparse import hstack\n",
    "\n",
    "# Input password from user\n",
    "test_password = input(\"Enter the password to test: \")\n",
    "\n",
    "# Check if password is in leaked credentials\n",
    "if check_leaked_password(test_password, load_leaked_credentials(\"most common2023.txt\")):\n",
    "    print(\"The password is found in leaked credentials. It is a very weak password.\")\n",
    "elif check_repeated(test_password):\n",
    "    print(\"The password contains a clear repeated pattern. It is weak.\")\n",
    "else:\n",
    "    # Extract TF-IDF features for the input password\n",
    "    password_tfidf = tfidf_features([test_password])\n",
    "    \n",
    "    # Ensure that the input data has the correct shape\n",
    "    if password_tfidf.shape[1] != X_train_tfidf.shape[1]:\n",
    "        # If the number of features doesn't match, create a sparse matrix of zeros to match the shape\n",
    "        padding = csr_matrix((password_tfidf.shape[0], X_train_tfidf.shape[1] - password_tfidf.shape[1]))\n",
    "        password_tfidf = hstack([password_tfidf, padding])\n",
    "    \n",
    "    # Predict strength for the input password\n",
    "    predicted_strength = model.predict(password_tfidf)\n",
    "    \n",
    "    # Map predicted class labels to password complexity categories\n",
    "    complexity_map = {0: \"Weak\", 1: \"Medium\", 2: \"Strong\"}\n",
    "    predicted_complexity = complexity_map[predicted_strength[0]]  # Assuming predicted_strength is a list with one element\n",
    "    \n",
    "    print(f\"Predicted complexity for password '{test_password}': {predicted_complexity}\")\n",
    "\n"
   ]
  }
 ],
 "metadata": {
  "kernelspec": {
   "display_name": "base",
   "language": "python",
   "name": "python3"
  },
  "language_info": {
   "codemirror_mode": {
    "name": "ipython",
    "version": 3
   },
   "file_extension": ".py",
   "mimetype": "text/x-python",
   "name": "python",
   "nbconvert_exporter": "python",
   "pygments_lexer": "ipython3",
   "version": "3.9.18"
  }
 },
 "nbformat": 4,
 "nbformat_minor": 2
}
